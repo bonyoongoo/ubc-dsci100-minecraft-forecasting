{
 "cells": [
  {
   "cell_type": "code",
   "execution_count": 1,
   "id": "7f97a99f-ad03-4caa-82d5-e4c75828a846",
   "metadata": {},
   "outputs": [
    {
     "name": "stderr",
     "output_type": "stream",
     "text": [
      "── \u001b[1mAttaching core tidyverse packages\u001b[22m ──────────────────────── tidyverse 2.0.0 ──\n",
      "\u001b[32m✔\u001b[39m \u001b[34mdplyr    \u001b[39m 1.1.4     \u001b[32m✔\u001b[39m \u001b[34mreadr    \u001b[39m 2.1.5\n",
      "\u001b[32m✔\u001b[39m \u001b[34mforcats  \u001b[39m 1.0.0     \u001b[32m✔\u001b[39m \u001b[34mstringr  \u001b[39m 1.5.1\n",
      "\u001b[32m✔\u001b[39m \u001b[34mggplot2  \u001b[39m 3.5.1     \u001b[32m✔\u001b[39m \u001b[34mtibble   \u001b[39m 3.2.1\n",
      "\u001b[32m✔\u001b[39m \u001b[34mlubridate\u001b[39m 1.9.3     \u001b[32m✔\u001b[39m \u001b[34mtidyr    \u001b[39m 1.3.1\n",
      "\u001b[32m✔\u001b[39m \u001b[34mpurrr    \u001b[39m 1.0.2     \n",
      "── \u001b[1mConflicts\u001b[22m ────────────────────────────────────────── tidyverse_conflicts() ──\n",
      "\u001b[31m✖\u001b[39m \u001b[34mdplyr\u001b[39m::\u001b[32mfilter()\u001b[39m masks \u001b[34mstats\u001b[39m::filter()\n",
      "\u001b[31m✖\u001b[39m \u001b[34mdplyr\u001b[39m::\u001b[32mlag()\u001b[39m    masks \u001b[34mstats\u001b[39m::lag()\n",
      "\u001b[36mℹ\u001b[39m Use the conflicted package (\u001b[3m\u001b[34m<http://conflicted.r-lib.org/>\u001b[39m\u001b[23m) to force all conflicts to become errors\n",
      "\n",
      "Attaching package: ‘janitor’\n",
      "\n",
      "\n",
      "The following objects are masked from ‘package:stats’:\n",
      "\n",
      "    chisq.test, fisher.test\n",
      "\n",
      "\n"
     ]
    }
   ],
   "source": [
    "library(tidyverse)\n",
    "library(janitor)"
   ]
  },
  {
   "cell_type": "code",
   "execution_count": 3,
   "id": "04adf832-30ac-487d-9be0-8379712a4e7b",
   "metadata": {
    "scrolled": true
   },
   "outputs": [
    {
     "name": "stderr",
     "output_type": "stream",
     "text": [
      "\u001b[1mRows: \u001b[22m\u001b[34m196\u001b[39m \u001b[1mColumns: \u001b[22m\u001b[34m7\u001b[39m\n",
      "\u001b[36m──\u001b[39m \u001b[1mColumn specification\u001b[22m \u001b[36m────────────────────────────────────────────────────────\u001b[39m\n",
      "\u001b[1mDelimiter:\u001b[22m \",\"\n",
      "\u001b[31mchr\u001b[39m (4): experience, hashedEmail, name, gender\n",
      "\u001b[32mdbl\u001b[39m (2): played_hours, Age\n",
      "\u001b[33mlgl\u001b[39m (1): subscribe\n",
      "\n",
      "\u001b[36mℹ\u001b[39m Use `spec()` to retrieve the full column specification for this data.\n",
      "\u001b[36mℹ\u001b[39m Specify the column types or set `show_col_types = FALSE` to quiet this message.\n",
      "\u001b[1mRows: \u001b[22m\u001b[34m1535\u001b[39m \u001b[1mColumns: \u001b[22m\u001b[34m5\u001b[39m\n",
      "\u001b[36m──\u001b[39m \u001b[1mColumn specification\u001b[22m \u001b[36m────────────────────────────────────────────────────────\u001b[39m\n",
      "\u001b[1mDelimiter:\u001b[22m \",\"\n",
      "\u001b[31mchr\u001b[39m (3): hashedEmail, start_time, end_time\n",
      "\u001b[32mdbl\u001b[39m (2): original_start_time, original_end_time\n",
      "\n",
      "\u001b[36mℹ\u001b[39m Use `spec()` to retrieve the full column specification for this data.\n",
      "\u001b[36mℹ\u001b[39m Specify the column types or set `show_col_types = FALSE` to quiet this message.\n"
     ]
    },
    {
     "data": {
      "text/html": [
       "196"
      ],
      "text/latex": [
       "196"
      ],
      "text/markdown": [
       "196"
      ],
      "text/plain": [
       "[1] 196"
      ]
     },
     "metadata": {},
     "output_type": "display_data"
    },
    {
     "data": {
      "text/html": [
       "7"
      ],
      "text/latex": [
       "7"
      ],
      "text/markdown": [
       "7"
      ],
      "text/plain": [
       "[1] 7"
      ]
     },
     "metadata": {},
     "output_type": "display_data"
    },
    {
     "data": {
      "text/html": [
       "<style>\n",
       ".list-inline {list-style: none; margin:0; padding: 0}\n",
       ".list-inline>li {display: inline-block}\n",
       ".list-inline>li:not(:last-child)::after {content: \"\\00b7\"; padding: 0 .5ex}\n",
       "</style>\n",
       "<ol class=list-inline><li>'experience'</li><li>'subscribe'</li><li>'hashed_email'</li><li>'played_hours'</li><li>'name'</li><li>'gender'</li><li>'age'</li></ol>\n"
      ],
      "text/latex": [
       "\\begin{enumerate*}\n",
       "\\item 'experience'\n",
       "\\item 'subscribe'\n",
       "\\item 'hashed\\_email'\n",
       "\\item 'played\\_hours'\n",
       "\\item 'name'\n",
       "\\item 'gender'\n",
       "\\item 'age'\n",
       "\\end{enumerate*}\n"
      ],
      "text/markdown": [
       "1. 'experience'\n",
       "2. 'subscribe'\n",
       "3. 'hashed_email'\n",
       "4. 'played_hours'\n",
       "5. 'name'\n",
       "6. 'gender'\n",
       "7. 'age'\n",
       "\n",
       "\n"
      ],
      "text/plain": [
       "[1] \"experience\"   \"subscribe\"    \"hashed_email\" \"played_hours\" \"name\"        \n",
       "[6] \"gender\"       \"age\"         "
      ]
     },
     "metadata": {},
     "output_type": "display_data"
    },
    {
     "data": {
      "text/html": [
       "1535"
      ],
      "text/latex": [
       "1535"
      ],
      "text/markdown": [
       "1535"
      ],
      "text/plain": [
       "[1] 1535"
      ]
     },
     "metadata": {},
     "output_type": "display_data"
    },
    {
     "data": {
      "text/html": [
       "5"
      ],
      "text/latex": [
       "5"
      ],
      "text/markdown": [
       "5"
      ],
      "text/plain": [
       "[1] 5"
      ]
     },
     "metadata": {},
     "output_type": "display_data"
    },
    {
     "data": {
      "text/html": [
       "<style>\n",
       ".list-inline {list-style: none; margin:0; padding: 0}\n",
       ".list-inline>li {display: inline-block}\n",
       ".list-inline>li:not(:last-child)::after {content: \"\\00b7\"; padding: 0 .5ex}\n",
       "</style>\n",
       "<ol class=list-inline><li>'hashed_email'</li><li>'start_time'</li><li>'end_time'</li><li>'original_start_time'</li><li>'original_end_time'</li></ol>\n"
      ],
      "text/latex": [
       "\\begin{enumerate*}\n",
       "\\item 'hashed\\_email'\n",
       "\\item 'start\\_time'\n",
       "\\item 'end\\_time'\n",
       "\\item 'original\\_start\\_time'\n",
       "\\item 'original\\_end\\_time'\n",
       "\\end{enumerate*}\n"
      ],
      "text/markdown": [
       "1. 'hashed_email'\n",
       "2. 'start_time'\n",
       "3. 'end_time'\n",
       "4. 'original_start_time'\n",
       "5. 'original_end_time'\n",
       "\n",
       "\n"
      ],
      "text/plain": [
       "[1] \"hashed_email\"        \"start_time\"          \"end_time\"           \n",
       "[4] \"original_start_time\" \"original_end_time\"  "
      ]
     },
     "metadata": {},
     "output_type": "display_data"
    }
   ],
   "source": [
    "players  <- read_csv(\"../data/players.csv\") |> clean_names()\n",
    "sessions <- read_csv(\"../data/sessions.csv\") |> clean_names()\n",
    "\n",
    "\n",
    "nrow(players); ncol(players); names(players)\n",
    "nrow(sessions); ncol(sessions); names(sessions)"
   ]
  },
  {
   "cell_type": "code",
   "execution_count": 4,
   "id": "c0b2264e-7ee7-4399-acb0-385c09803c91",
   "metadata": {},
   "outputs": [
    {
     "data": {
      "text/html": [
       "<table class=\"dataframe\">\n",
       "<caption>A tibble: 2 × 2</caption>\n",
       "<thead>\n",
       "\t<tr><th scope=col>newsletter_subscribed</th><th scope=col>players</th></tr>\n",
       "\t<tr><th scope=col>&lt;fct&gt;</th><th scope=col>&lt;int&gt;</th></tr>\n",
       "</thead>\n",
       "<tbody>\n",
       "\t<tr><td>Subscribed    </td><td>144</td></tr>\n",
       "\t<tr><td>Not subscribed</td><td> 52</td></tr>\n",
       "</tbody>\n",
       "</table>\n"
      ],
      "text/latex": [
       "A tibble: 2 × 2\n",
       "\\begin{tabular}{ll}\n",
       " newsletter\\_subscribed & players\\\\\n",
       " <fct> & <int>\\\\\n",
       "\\hline\n",
       "\t Subscribed     & 144\\\\\n",
       "\t Not subscribed &  52\\\\\n",
       "\\end{tabular}\n"
      ],
      "text/markdown": [
       "\n",
       "A tibble: 2 × 2\n",
       "\n",
       "| newsletter_subscribed &lt;fct&gt; | players &lt;int&gt; |\n",
       "|---|---|\n",
       "| Subscribed     | 144 |\n",
       "| Not subscribed |  52 |\n",
       "\n"
      ],
      "text/plain": [
       "  newsletter_subscribed players\n",
       "1 Subscribed            144    \n",
       "2 Not subscribed         52    "
      ]
     },
     "metadata": {},
     "output_type": "display_data"
    }
   ],
   "source": [
    "players <- players |>\n",
    "  mutate(\n",
    "    newsletter_subscribed = ifelse(\n",
    "      is.na(subscribe), NA_character_,\n",
    "      ifelse(subscribe, \"Subscribed\", \"Not subscribed\")\n",
    "    ),\n",
    "    newsletter_subscribed = as_factor(newsletter_subscribed)\n",
    "  )\n",
    "\n",
    "players |>\n",
    "  group_by(newsletter_subscribed) |>\n",
    "  summarize(players = n())\n"
   ]
  },
  {
   "cell_type": "code",
   "execution_count": 5,
   "id": "1dd67744-ae57-449a-96d3-b8866023ab78",
   "metadata": {},
   "outputs": [
    {
     "data": {
      "text/html": [
       "196"
      ],
      "text/latex": [
       "196"
      ],
      "text/markdown": [
       "196"
      ],
      "text/plain": [
       "[1] 196"
      ]
     },
     "metadata": {},
     "output_type": "display_data"
    },
    {
     "data": {
      "text/html": [
       "8"
      ],
      "text/latex": [
       "8"
      ],
      "text/markdown": [
       "8"
      ],
      "text/plain": [
       "[1] 8"
      ]
     },
     "metadata": {},
     "output_type": "display_data"
    },
    {
     "data": {
      "text/html": [
       "<style>\n",
       ".list-inline {list-style: none; margin:0; padding: 0}\n",
       ".list-inline>li {display: inline-block}\n",
       ".list-inline>li:not(:last-child)::after {content: \"\\00b7\"; padding: 0 .5ex}\n",
       "</style>\n",
       "<ol class=list-inline><li>'experience'</li><li>'subscribe'</li><li>'hashed_email'</li><li>'played_hours'</li><li>'name'</li><li>'gender'</li><li>'age'</li><li>'newsletter_subscribed'</li></ol>\n"
      ],
      "text/latex": [
       "\\begin{enumerate*}\n",
       "\\item 'experience'\n",
       "\\item 'subscribe'\n",
       "\\item 'hashed\\_email'\n",
       "\\item 'played\\_hours'\n",
       "\\item 'name'\n",
       "\\item 'gender'\n",
       "\\item 'age'\n",
       "\\item 'newsletter\\_subscribed'\n",
       "\\end{enumerate*}\n"
      ],
      "text/markdown": [
       "1. 'experience'\n",
       "2. 'subscribe'\n",
       "3. 'hashed_email'\n",
       "4. 'played_hours'\n",
       "5. 'name'\n",
       "6. 'gender'\n",
       "7. 'age'\n",
       "8. 'newsletter_subscribed'\n",
       "\n",
       "\n"
      ],
      "text/plain": [
       "[1] \"experience\"            \"subscribe\"             \"hashed_email\"         \n",
       "[4] \"played_hours\"          \"name\"                  \"gender\"               \n",
       "[7] \"age\"                   \"newsletter_subscribed\""
      ]
     },
     "metadata": {},
     "output_type": "display_data"
    },
    {
     "data": {
      "text/html": [
       "1535"
      ],
      "text/latex": [
       "1535"
      ],
      "text/markdown": [
       "1535"
      ],
      "text/plain": [
       "[1] 1535"
      ]
     },
     "metadata": {},
     "output_type": "display_data"
    },
    {
     "data": {
      "text/html": [
       "5"
      ],
      "text/latex": [
       "5"
      ],
      "text/markdown": [
       "5"
      ],
      "text/plain": [
       "[1] 5"
      ]
     },
     "metadata": {},
     "output_type": "display_data"
    },
    {
     "data": {
      "text/html": [
       "<style>\n",
       ".list-inline {list-style: none; margin:0; padding: 0}\n",
       ".list-inline>li {display: inline-block}\n",
       ".list-inline>li:not(:last-child)::after {content: \"\\00b7\"; padding: 0 .5ex}\n",
       "</style>\n",
       "<ol class=list-inline><li>'hashed_email'</li><li>'start_time'</li><li>'end_time'</li><li>'original_start_time'</li><li>'original_end_time'</li></ol>\n"
      ],
      "text/latex": [
       "\\begin{enumerate*}\n",
       "\\item 'hashed\\_email'\n",
       "\\item 'start\\_time'\n",
       "\\item 'end\\_time'\n",
       "\\item 'original\\_start\\_time'\n",
       "\\item 'original\\_end\\_time'\n",
       "\\end{enumerate*}\n"
      ],
      "text/markdown": [
       "1. 'hashed_email'\n",
       "2. 'start_time'\n",
       "3. 'end_time'\n",
       "4. 'original_start_time'\n",
       "5. 'original_end_time'\n",
       "\n",
       "\n"
      ],
      "text/plain": [
       "[1] \"hashed_email\"        \"start_time\"          \"end_time\"           \n",
       "[4] \"original_start_time\" \"original_end_time\"  "
      ]
     },
     "metadata": {},
     "output_type": "display_data"
    }
   ],
   "source": [
    "\n",
    "nrow(players); ncol(players)\n",
    "names(players)\n",
    "\n",
    "\n",
    "nrow(sessions); ncol(sessions)\n",
    "names(sessions)"
   ]
  },
  {
   "cell_type": "code",
   "execution_count": 6,
   "id": "e3eaad34-a4dd-4423-9272-a72920dedc63",
   "metadata": {},
   "outputs": [
    {
     "data": {
      "text/html": [
       "<table class=\"dataframe\">\n",
       "<caption>A tibble: 1 × 8</caption>\n",
       "<thead>\n",
       "\t<tr><th scope=col>experience</th><th scope=col>subscribe</th><th scope=col>hashed_email</th><th scope=col>played_hours</th><th scope=col>name</th><th scope=col>gender</th><th scope=col>age</th><th scope=col>newsletter_subscribed</th></tr>\n",
       "\t<tr><th scope=col>&lt;int&gt;</th><th scope=col>&lt;int&gt;</th><th scope=col>&lt;int&gt;</th><th scope=col>&lt;int&gt;</th><th scope=col>&lt;int&gt;</th><th scope=col>&lt;int&gt;</th><th scope=col>&lt;int&gt;</th><th scope=col>&lt;int&gt;</th></tr>\n",
       "</thead>\n",
       "<tbody>\n",
       "\t<tr><td>0</td><td>0</td><td>0</td><td>0</td><td>0</td><td>0</td><td>2</td><td>0</td></tr>\n",
       "</tbody>\n",
       "</table>\n"
      ],
      "text/latex": [
       "A tibble: 1 × 8\n",
       "\\begin{tabular}{llllllll}\n",
       " experience & subscribe & hashed\\_email & played\\_hours & name & gender & age & newsletter\\_subscribed\\\\\n",
       " <int> & <int> & <int> & <int> & <int> & <int> & <int> & <int>\\\\\n",
       "\\hline\n",
       "\t 0 & 0 & 0 & 0 & 0 & 0 & 2 & 0\\\\\n",
       "\\end{tabular}\n"
      ],
      "text/markdown": [
       "\n",
       "A tibble: 1 × 8\n",
       "\n",
       "| experience &lt;int&gt; | subscribe &lt;int&gt; | hashed_email &lt;int&gt; | played_hours &lt;int&gt; | name &lt;int&gt; | gender &lt;int&gt; | age &lt;int&gt; | newsletter_subscribed &lt;int&gt; |\n",
       "|---|---|---|---|---|---|---|---|\n",
       "| 0 | 0 | 0 | 0 | 0 | 0 | 2 | 0 |\n",
       "\n"
      ],
      "text/plain": [
       "  experience subscribe hashed_email played_hours name gender age\n",
       "1 0          0         0            0            0    0      2  \n",
       "  newsletter_subscribed\n",
       "1 0                    "
      ]
     },
     "metadata": {},
     "output_type": "display_data"
    },
    {
     "data": {
      "text/html": [
       "<table class=\"dataframe\">\n",
       "<caption>A tibble: 1 × 5</caption>\n",
       "<thead>\n",
       "\t<tr><th scope=col>hashed_email</th><th scope=col>start_time</th><th scope=col>end_time</th><th scope=col>original_start_time</th><th scope=col>original_end_time</th></tr>\n",
       "\t<tr><th scope=col>&lt;int&gt;</th><th scope=col>&lt;int&gt;</th><th scope=col>&lt;int&gt;</th><th scope=col>&lt;int&gt;</th><th scope=col>&lt;int&gt;</th></tr>\n",
       "</thead>\n",
       "<tbody>\n",
       "\t<tr><td>0</td><td>0</td><td>2</td><td>0</td><td>2</td></tr>\n",
       "</tbody>\n",
       "</table>\n"
      ],
      "text/latex": [
       "A tibble: 1 × 5\n",
       "\\begin{tabular}{lllll}\n",
       " hashed\\_email & start\\_time & end\\_time & original\\_start\\_time & original\\_end\\_time\\\\\n",
       " <int> & <int> & <int> & <int> & <int>\\\\\n",
       "\\hline\n",
       "\t 0 & 0 & 2 & 0 & 2\\\\\n",
       "\\end{tabular}\n"
      ],
      "text/markdown": [
       "\n",
       "A tibble: 1 × 5\n",
       "\n",
       "| hashed_email &lt;int&gt; | start_time &lt;int&gt; | end_time &lt;int&gt; | original_start_time &lt;int&gt; | original_end_time &lt;int&gt; |\n",
       "|---|---|---|---|---|\n",
       "| 0 | 0 | 2 | 0 | 2 |\n",
       "\n"
      ],
      "text/plain": [
       "  hashed_email start_time end_time original_start_time original_end_time\n",
       "1 0            0          2        0                   2                "
      ]
     },
     "metadata": {},
     "output_type": "display_data"
    }
   ],
   "source": [
    "players |>\n",
    "  summarize(across(everything(), ~ sum(is.na(.))))\n",
    "sessions |>\n",
    "  summarize(across(everything(), ~ sum(is.na(.))))"
   ]
  },
  {
   "cell_type": "code",
   "execution_count": 7,
   "id": "14a41d8e-2a67-4683-a864-ee1d97c8e5ce",
   "metadata": {},
   "outputs": [
    {
     "data": {
      "text/html": [
       "<table class=\"dataframe\">\n",
       "<caption>A tibble: 1 × 8</caption>\n",
       "<thead>\n",
       "\t<tr><th scope=col>experience</th><th scope=col>subscribe</th><th scope=col>hashed_email</th><th scope=col>played_hours</th><th scope=col>name</th><th scope=col>gender</th><th scope=col>age</th><th scope=col>newsletter_subscribed</th></tr>\n",
       "\t<tr><th scope=col>&lt;chr&gt;</th><th scope=col>&lt;chr&gt;</th><th scope=col>&lt;chr&gt;</th><th scope=col>&lt;chr&gt;</th><th scope=col>&lt;chr&gt;</th><th scope=col>&lt;chr&gt;</th><th scope=col>&lt;chr&gt;</th><th scope=col>&lt;chr&gt;</th></tr>\n",
       "</thead>\n",
       "<tbody>\n",
       "\t<tr><td>character</td><td>logical</td><td>character</td><td>numeric</td><td>character</td><td>character</td><td>numeric</td><td>factor</td></tr>\n",
       "</tbody>\n",
       "</table>\n"
      ],
      "text/latex": [
       "A tibble: 1 × 8\n",
       "\\begin{tabular}{llllllll}\n",
       " experience & subscribe & hashed\\_email & played\\_hours & name & gender & age & newsletter\\_subscribed\\\\\n",
       " <chr> & <chr> & <chr> & <chr> & <chr> & <chr> & <chr> & <chr>\\\\\n",
       "\\hline\n",
       "\t character & logical & character & numeric & character & character & numeric & factor\\\\\n",
       "\\end{tabular}\n"
      ],
      "text/markdown": [
       "\n",
       "A tibble: 1 × 8\n",
       "\n",
       "| experience &lt;chr&gt; | subscribe &lt;chr&gt; | hashed_email &lt;chr&gt; | played_hours &lt;chr&gt; | name &lt;chr&gt; | gender &lt;chr&gt; | age &lt;chr&gt; | newsletter_subscribed &lt;chr&gt; |\n",
       "|---|---|---|---|---|---|---|---|\n",
       "| character | logical | character | numeric | character | character | numeric | factor |\n",
       "\n"
      ],
      "text/plain": [
       "  experience subscribe hashed_email played_hours name      gender    age    \n",
       "1 character  logical   character    numeric      character character numeric\n",
       "  newsletter_subscribed\n",
       "1 factor               "
      ]
     },
     "metadata": {},
     "output_type": "display_data"
    },
    {
     "data": {
      "text/html": [
       "<table class=\"dataframe\">\n",
       "<caption>A tibble: 1 × 5</caption>\n",
       "<thead>\n",
       "\t<tr><th scope=col>hashed_email</th><th scope=col>start_time</th><th scope=col>end_time</th><th scope=col>original_start_time</th><th scope=col>original_end_time</th></tr>\n",
       "\t<tr><th scope=col>&lt;chr&gt;</th><th scope=col>&lt;chr&gt;</th><th scope=col>&lt;chr&gt;</th><th scope=col>&lt;chr&gt;</th><th scope=col>&lt;chr&gt;</th></tr>\n",
       "</thead>\n",
       "<tbody>\n",
       "\t<tr><td>character</td><td>character</td><td>character</td><td>numeric</td><td>numeric</td></tr>\n",
       "</tbody>\n",
       "</table>\n"
      ],
      "text/latex": [
       "A tibble: 1 × 5\n",
       "\\begin{tabular}{lllll}\n",
       " hashed\\_email & start\\_time & end\\_time & original\\_start\\_time & original\\_end\\_time\\\\\n",
       " <chr> & <chr> & <chr> & <chr> & <chr>\\\\\n",
       "\\hline\n",
       "\t character & character & character & numeric & numeric\\\\\n",
       "\\end{tabular}\n"
      ],
      "text/markdown": [
       "\n",
       "A tibble: 1 × 5\n",
       "\n",
       "| hashed_email &lt;chr&gt; | start_time &lt;chr&gt; | end_time &lt;chr&gt; | original_start_time &lt;chr&gt; | original_end_time &lt;chr&gt; |\n",
       "|---|---|---|---|---|\n",
       "| character | character | character | numeric | numeric |\n",
       "\n"
      ],
      "text/plain": [
       "  hashed_email start_time end_time  original_start_time original_end_time\n",
       "1 character    character  character numeric             numeric          "
      ]
     },
     "metadata": {},
     "output_type": "display_data"
    }
   ],
   "source": [
    "players |>\n",
    "  summarize(across(everything(), ~ paste(class(.x)[1])))\n",
    "sessions |>\n",
    "  summarize(across(everything(), ~ paste(class(.x)[1])))"
   ]
  },
  {
   "cell_type": "code",
   "execution_count": 8,
   "id": "ee55843c-7769-461c-8fbd-7ee260319743",
   "metadata": {},
   "outputs": [
    {
     "data": {
      "text/html": [
       "<table class=\"dataframe\">\n",
       "<caption>A tibble: 1 × 2</caption>\n",
       "<thead>\n",
       "\t<tr><th scope=col>played_hours</th><th scope=col>age</th></tr>\n",
       "\t<tr><th scope=col>&lt;dbl&gt;</th><th scope=col>&lt;dbl&gt;</th></tr>\n",
       "</thead>\n",
       "<tbody>\n",
       "\t<tr><td>5.85</td><td>21.14</td></tr>\n",
       "</tbody>\n",
       "</table>\n"
      ],
      "text/latex": [
       "A tibble: 1 × 2\n",
       "\\begin{tabular}{ll}\n",
       " played\\_hours & age\\\\\n",
       " <dbl> & <dbl>\\\\\n",
       "\\hline\n",
       "\t 5.85 & 21.14\\\\\n",
       "\\end{tabular}\n"
      ],
      "text/markdown": [
       "\n",
       "A tibble: 1 × 2\n",
       "\n",
       "| played_hours &lt;dbl&gt; | age &lt;dbl&gt; |\n",
       "|---|---|\n",
       "| 5.85 | 21.14 |\n",
       "\n"
      ],
      "text/plain": [
       "  played_hours age  \n",
       "1 5.85         21.14"
      ]
     },
     "metadata": {},
     "output_type": "display_data"
    }
   ],
   "source": [
    "players |>\n",
    "  summarize(across(where(is.numeric), ~ round(mean(.x, na.rm = TRUE), 2)))\n"
   ]
  },
  {
   "cell_type": "code",
   "execution_count": null,
   "id": "bc9a8f13-7238-40ea-bff6-f042353eada2",
   "metadata": {},
   "outputs": [],
   "source": []
  }
 ],
 "metadata": {
  "kernelspec": {
   "display_name": "R",
   "language": "R",
   "name": "ir"
  },
  "language_info": {
   "codemirror_mode": "r",
   "file_extension": ".r",
   "mimetype": "text/x-r-source",
   "name": "R",
   "pygments_lexer": "r",
   "version": "4.3.3"
  }
 },
 "nbformat": 4,
 "nbformat_minor": 5
}
